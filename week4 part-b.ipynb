{
    "nbformat_minor": 1, 
    "cells": [
        {
            "source": "# The battle of the neighborhoods\n\n# Week 4\n\n## Title- Business recommender system\n", 
            "cell_type": "markdown", 
            "metadata": {
                "collapsed": true
            }
        }, 
        {
            "source": "## Business Problem:\n", 
            "cell_type": "markdown", 
            "metadata": {}
        }, 
        {
            "source": "Toronto is one of the largest cities of Canada and the provincial capital of Ontario. It is the financial capital of Canada. So a person would often llike to start a new business here. So the question arises, what kind of business should he start? Where should he start it? And what are his chances for success? These are the questions which are of utmost importance to a aspiring bussinessman/woman.", 
            "cell_type": "markdown", 
            "metadata": {}
        }, 
        {
            "source": "So it is very tough for the aspiring businessman/businesswoman to get the answers to the above questions on his own and they cannot be left on luck as these factors directly influence the success of his/her business. So my analysis aims at using the Foursquare api to provide the concerned person with the list of most common to the least common businesses present in the area so that he/she could choose to set up the business which is not common in a particular neighbourhood and that could lead to the success of his/her business.", 
            "cell_type": "markdown", 
            "metadata": {}
        }, 
        {
            "source": "# Data sources(week4-part B)", 
            "cell_type": "markdown", 
            "metadata": {}
        }, 
        {
            "source": "For this study the data was extracted from a wikipedia page that had all the information needed to explore and cluster the neighbourhoods of Toronto. Foursquare's location data was also used to extract the information about the venues present in or around the neighbourhood. The link to the wikipedia page is provided here-https://en.wikipedia.org/wiki/List_of_postal_codes_of_Canada:_M", 
            "cell_type": "markdown", 
            "metadata": {}
        }, 
        {
            "source": "The list of venues present in the various neighbourhoods was extracted and the list was grouped by neighbourhoods. Eventually a list of venues ranging from most common to least common in a neighbourhood was presented.", 
            "cell_type": "markdown", 
            "metadata": {}
        }, 
        {
            "source": "", 
            "cell_type": "code", 
            "metadata": {}, 
            "outputs": [], 
            "execution_count": null
        }
    ], 
    "metadata": {
        "kernelspec": {
            "display_name": "Python 3.5", 
            "name": "python3", 
            "language": "python"
        }, 
        "language_info": {
            "mimetype": "text/x-python", 
            "nbconvert_exporter": "python", 
            "version": "3.5.5", 
            "name": "python", 
            "pygments_lexer": "ipython3", 
            "file_extension": ".py", 
            "codemirror_mode": {
                "version": 3, 
                "name": "ipython"
            }
        }
    }, 
    "nbformat": 4
}